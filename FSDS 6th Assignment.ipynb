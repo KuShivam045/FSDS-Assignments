{
 "cells": [
  {
   "cell_type": "markdown",
   "id": "c74e7938",
   "metadata": {},
   "source": [
    "# 1. What are escape characters, and how do you use them?\n",
    "Answer: To insert characters that are illegal in a string, use an escape character. An escape character is a backslash \\ followed by the character you want to insert."
   ]
  },
  {
   "cell_type": "markdown",
   "id": "93f7ed08",
   "metadata": {},
   "source": [
    "# 2. What do the escape characters n and t stand for?\n",
    "Answer: \"\\n\" adds the new line while \"\\t\" is use to create a tab "
   ]
  },
  {
   "cell_type": "code",
   "execution_count": 5,
   "id": "31bdd5a1",
   "metadata": {},
   "outputs": [
    {
     "name": "stdout",
     "output_type": "stream",
     "text": [
      " 2. What do the escape \n",
      "characters n and t stand for? Answer: \"\n",
      "\" adds the new line while \"\t\"\n",
      "is use to create a tab\n"
     ]
    }
   ],
   "source": [
    "escape = ''' 2. What do the escape \\ncharacters n and t stand for? Answer: \"\\n\" adds the new line while \"\\t\"\n",
    "is use to create a tab'''\n",
    "print(escape)"
   ]
  },
  {
   "cell_type": "markdown",
   "id": "872a0cc1",
   "metadata": {},
   "source": [
    "# 3. What is the way to include backslash characters in a string?\n",
    "Answer: : The \\\\ escape character will represent the backslash character in a string"
   ]
  },
  {
   "cell_type": "markdown",
   "id": "3b25fbde",
   "metadata": {},
   "source": [
    "# 4. The string \"Howl's Moving Castle\" is a correct value. Why isn't the single quote character in the word Howl's not escaped a problem?\n",
    "Answer: The string \"Howl's Moving Castle\" escaped the problem because it is wrapped inside double quotes. "
   ]
  },
  {
   "cell_type": "code",
   "execution_count": 6,
   "id": "39ea9b41",
   "metadata": {},
   "outputs": [
    {
     "data": {
      "text/plain": [
       "\"Howl's Moving Castle\""
      ]
     },
     "execution_count": 6,
     "metadata": {},
     "output_type": "execute_result"
    }
   ],
   "source": [
    "\"Howl's Moving Castle\"  or 'Howl\\'s Moving Castle'"
   ]
  },
  {
   "cell_type": "markdown",
   "id": "9ca6d7ff",
   "metadata": {},
   "source": [
    "# 5. How do you write a string of newlines if you don&#39;t want to use the n character?\n",
    "Answer: Multiline string allow you to use newlines in string without the \\n escape character"
   ]
  },
  {
   "cell_type": "code",
   "execution_count": 8,
   "id": "6328389e",
   "metadata": {},
   "outputs": [
    {
     "name": "stdout",
     "output_type": "stream",
     "text": [
      "Travelling allows People\n",
      "to push thier limitation\n"
     ]
    }
   ],
   "source": [
    "a = '''Travelling allows People\n",
    "to push thier limitation'''\n",
    "print(a)"
   ]
  },
  {
   "cell_type": "markdown",
   "id": "2bd546d4",
   "metadata": {},
   "source": [
    "# 6. What are the values of the given expressions?\n",
    "'Hello, world!'[1]\n",
    "\n",
    "'Hello, world'![0:5]\n",
    "\n",
    "'Hello, world'![:5]\n",
    "\n",
    "'Hello, world'![3:]"
   ]
  },
  {
   "cell_type": "code",
   "execution_count": 15,
   "id": "e129a680",
   "metadata": {},
   "outputs": [
    {
     "name": "stdout",
     "output_type": "stream",
     "text": [
      "e\n",
      "Hello\n",
      "Hello\n",
      "lo, world!\n"
     ]
    }
   ],
   "source": [
    "print('Hello, world!'[1])\n",
    "print('Hello, world!'[0:5])\n",
    "print('Hello, world!'[:5])\n",
    "print('Hello, world!'[3:])"
   ]
  },
  {
   "cell_type": "markdown",
   "id": "b63fb852",
   "metadata": {},
   "source": [
    "# 7. What are the values of the following expressions?\n",
    "'Hello'.upper()\n",
    "\n",
    "'Hello'.upper().isupper()\n",
    "\n",
    "'Hello'.upper().lower()"
   ]
  },
  {
   "cell_type": "code",
   "execution_count": 12,
   "id": "d5539f1a",
   "metadata": {},
   "outputs": [
    {
     "name": "stdout",
     "output_type": "stream",
     "text": [
      "HELLO\n",
      "True\n",
      "hello\n"
     ]
    }
   ],
   "source": [
    "print('Hello'.upper())\n",
    "print('Hello'.upper().isupper())\n",
    "print('Hello'.upper().lower())"
   ]
  },
  {
   "cell_type": "markdown",
   "id": "9e2d594a",
   "metadata": {},
   "source": [
    "# 8. What are the values of the following expressions?\n",
    "'Remember, remember, the fifth of July.'.split()\n",
    "\n",
    "\n",
    "               \n",
    "'-'.join ('There can only one.'.split())"
   ]
  },
  {
   "cell_type": "code",
   "execution_count": 19,
   "id": "d5cd034c",
   "metadata": {},
   "outputs": [
    {
     "name": "stdout",
     "output_type": "stream",
     "text": [
      "['Remember,', 'remember,', 'the', 'fifth', 'of', 'July.']\n",
      "There-can-only-one.\n",
      "C-o-n-g-r-a-t-u-l-a-t-i-o-n\n"
     ]
    }
   ],
   "source": [
    "print('Remember, remember, the fifth of July.'.split())\n",
    "print('-'.join ('There can only one.'.split()))\n",
    "print('-'.join(\"Congratulation\"))"
   ]
  },
  {
   "cell_type": "markdown",
   "id": "048e1bc9",
   "metadata": {},
   "source": [
    "# 9. What are the methods for right-justifying, left-justifying, and centering a string?"
   ]
  },
  {
   "cell_type": "code",
   "execution_count": 16,
   "id": "8eb27a29",
   "metadata": {},
   "outputs": [],
   "source": [
    "# The rjust(),ljust(),center() string methods, respectively"
   ]
  },
  {
   "cell_type": "markdown",
   "id": "f4ba61e3",
   "metadata": {},
   "source": [
    "# 10. What is the best way to remove whitespace characters from the start or end?"
   ]
  },
  {
   "cell_type": "code",
   "execution_count": 18,
   "id": "95670691",
   "metadata": {},
   "outputs": [],
   "source": [
    " #The lstrip() and rstrip() methods remove whitesapce characters from the left and right ends of a string respectively"
   ]
  }
 ],
 "metadata": {
  "kernelspec": {
   "display_name": "Python 3 (ipykernel)",
   "language": "python",
   "name": "python3"
  },
  "language_info": {
   "codemirror_mode": {
    "name": "ipython",
    "version": 3
   },
   "file_extension": ".py",
   "mimetype": "text/x-python",
   "name": "python",
   "nbconvert_exporter": "python",
   "pygments_lexer": "ipython3",
   "version": "3.9.12"
  }
 },
 "nbformat": 4,
 "nbformat_minor": 5
}
