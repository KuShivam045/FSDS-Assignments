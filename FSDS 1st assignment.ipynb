{
 "cells": [
  {
   "cell_type": "markdown",
   "id": "02fa34ec",
   "metadata": {},
   "source": [
    "# 1. In the below elements which of them are values or an expression? eg:- values can be\n",
    "integer or string and expressions will be mathematical operators.\n",
    "*\n",
    "'hello'\n",
    "-87.8\n",
    "-\n",
    "/\n",
    "+\n",
    "6\n",
    "Answer:"
   ]
  },
  {
   "cell_type": "code",
   "execution_count": null,
   "id": "16ae5efd",
   "metadata": {},
   "outputs": [],
   "source": [
    "*, -, /, + are the mathematical operators so these are an \n",
    "'hello' it is a string \n",
    "-87.8 it is a negative float number\n",
    "6 it is an integer"
   ]
  },
  {
   "cell_type": "markdown",
   "id": "d5cd1bb5",
   "metadata": {},
   "source": [
    "# 2. What is the difference between string and variable?\n",
    "Answer:"
   ]
  },
  {
   "cell_type": "code",
   "execution_count": null,
   "id": "bf5c72bb",
   "metadata": {},
   "outputs": [],
   "source": [
    "String is a Data Type which is use represent some character, integer or any kind of values by \n",
    "using '' or \"\" and ''' ''' for the paragraphs\n",
    "\n",
    "Variable, A variable is a container which is use to hold the value of any data type it may be an int,\n",
    "float, string, boolean etc. "
   ]
  },
  {
   "cell_type": "markdown",
   "id": "32ca86ea",
   "metadata": {},
   "source": [
    "# 3. Describe three different data types.\n",
    "Answer:"
   ]
  },
  {
   "cell_type": "code",
   "execution_count": null,
   "id": "3b515d2c",
   "metadata": {},
   "outputs": [],
   "source": [
    "String is a Data Type which is use represent some character, integer or any kind of values by using '' or\"\" \n",
    "and ''' ''' for the paragraphs.\n",
    "\n",
    "Integer, An integer is a data type which only have the Whole number.\n",
    "\n",
    "Float, A float is a data type which only have the fractional number inside it."
   ]
  },
  {
   "cell_type": "markdown",
   "id": "e4ac3bd7",
   "metadata": {},
   "source": [
    "\n",
    "# 4. What is an expression made up of? What do all expressions do?\n",
    "Answer:"
   ]
  },
  {
   "cell_type": "code",
   "execution_count": null,
   "id": "64dab57a",
   "metadata": {},
   "outputs": [],
   "source": [
    "An expression is made by the combination of some value and the function. All Exprssions are use to create a new value"
   ]
  },
  {
   "cell_type": "markdown",
   "id": "bad4e194",
   "metadata": {},
   "source": [
    "# 5. This assignment statements, like spam = 10. What is the difference between an expression and a statement?\n",
    "Answer:"
   ]
  },
  {
   "cell_type": "code",
   "execution_count": null,
   "id": "eadc5a47",
   "metadata": {},
   "outputs": [],
   "source": [
    "Statement is a standalone unit that does not return anything it just hold some value.\n",
    "\n",
    "Expression, An expression is made by the combination of some value and the function. \n",
    "All Exprssions are use to create a new value"
   ]
  },
  {
   "cell_type": "markdown",
   "id": "fed22771",
   "metadata": {},
   "source": [
    "# 6. After running the following code, what does the variable bacon contain?\n",
    "bacon = 22\n",
    "bacon + 1\n",
    "Answer:"
   ]
  },
  {
   "cell_type": "code",
   "execution_count": 1,
   "id": "12272d7b",
   "metadata": {},
   "outputs": [
    {
     "data": {
      "text/plain": [
       "23"
      ]
     },
     "execution_count": 1,
     "metadata": {},
     "output_type": "execute_result"
    }
   ],
   "source": [
    "bacon = 22\n",
    "bacon + 1"
   ]
  },
  {
   "cell_type": "markdown",
   "id": "e93b2608",
   "metadata": {},
   "source": [
    "# 7. What should the values of the following two terms be?\n",
    "'spam' + 'spamspam'\n",
    "'spam' * 3"
   ]
  },
  {
   "cell_type": "code",
   "execution_count": 2,
   "id": "d123ce48",
   "metadata": {},
   "outputs": [
    {
     "data": {
      "text/plain": [
       "'spamspamspam'"
      ]
     },
     "execution_count": 2,
     "metadata": {},
     "output_type": "execute_result"
    }
   ],
   "source": [
    "'spam' + 'spamspam'"
   ]
  },
  {
   "cell_type": "code",
   "execution_count": 3,
   "id": "0a11f507",
   "metadata": {},
   "outputs": [
    {
     "data": {
      "text/plain": [
       "'spamspamspam'"
      ]
     },
     "execution_count": 3,
     "metadata": {},
     "output_type": "execute_result"
    }
   ],
   "source": [
    "'spam' * 3"
   ]
  },
  {
   "cell_type": "markdown",
   "id": "5c0ef6c7",
   "metadata": {},
   "source": [
    "# 8. Why is eggs a valid variable name while 100 is invalid?\n",
    "Answer:"
   ]
  },
  {
   "cell_type": "code",
   "execution_count": null,
   "id": "60d842b9",
   "metadata": {},
   "outputs": [],
   "source": [
    "Pyhton is a case sensitive language, in pyhton we can declare a variable name by using a Character \n",
    "or we can either use (__) before the name then we can use numerical value to declare a variable name \n",
    "\n",
    "eggs is variable because it has the character in starting \n",
    "\n",
    "100 can not be the variable name because in starting it has the numerical value."
   ]
  },
  {
   "cell_type": "markdown",
   "id": "b7412d2f",
   "metadata": {},
   "source": [
    "# 9. What three functions can be used to get the integer, floating-point number, or string version of a value?"
   ]
  },
  {
   "cell_type": "code",
   "execution_count": null,
   "id": "c12adb2b",
   "metadata": {},
   "outputs": [],
   "source": [
    "int(), float() and str() these three functions can be used to get the integer,\n",
    "floating-point number, or string version of a value."
   ]
  },
  {
   "cell_type": "markdown",
   "id": "73c46f47",
   "metadata": {},
   "source": [
    "# 10. Why does this expression cause an error? How can you fix it? have eaten + 99 + burritos.\n",
    "Answer:"
   ]
  },
  {
   "cell_type": "code",
   "execution_count": null,
   "id": "2ea01bde",
   "metadata": {},
   "outputs": [],
   "source": [
    "A string can not concatenate with the integer. to do that we need typecasting."
   ]
  }
 ],
 "metadata": {
  "kernelspec": {
   "display_name": "Python 3 (ipykernel)",
   "language": "python",
   "name": "python3"
  },
  "language_info": {
   "codemirror_mode": {
    "name": "ipython",
    "version": 3
   },
   "file_extension": ".py",
   "mimetype": "text/x-python",
   "name": "python",
   "nbconvert_exporter": "python",
   "pygments_lexer": "ipython3",
   "version": "3.9.12"
  }
 },
 "nbformat": 4,
 "nbformat_minor": 5
}
